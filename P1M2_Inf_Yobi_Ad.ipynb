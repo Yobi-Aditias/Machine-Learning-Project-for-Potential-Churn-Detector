{
 "cells": [
  {
   "cell_type": "code",
   "execution_count": 1,
   "metadata": {},
   "outputs": [],
   "source": [
    "import pickle\n",
    "import pandas as pd\n",
    "import numpy as np\n",
    "import random\n",
    "import seaborn as sns\n",
    "from sklearn.decomposition import PCA"
   ]
  },
  {
   "cell_type": "code",
   "execution_count": 16,
   "metadata": {},
   "outputs": [],
   "source": [
    "with open('modelML.pkl', 'rb') as file_1:\n",
    "  best_model = pickle.load(file_1)"
   ]
  },
  {
   "cell_type": "code",
   "execution_count": 30,
   "metadata": {},
   "outputs": [],
   "source": [
    "seed_value = 123\n",
    "random.seed(seed_value)\n",
    "np.random.seed(seed_value)\n",
    "n=500\n",
    "\n",
    "Tenure = np.random.uniform(0,50,n)\n",
    "NumberOfDeviceRegistered = random.choices([1,2,3,4,5,6],k=n)\n",
    "SatisfactionScore = random.choices([1,2,3,4,5],k=n)\n",
    "Complain= random.choices([0,1],k=n)\n",
    "DaySinceLastOrder = np.random.uniform(0,30,n)\n",
    "CashbackAmount = np.random.uniform(0,300,n)\n",
    "PreferedOrderCat = random.choices(['Laptop & Accessory', 'Mobile Phone', 'Others', 'Fashion','Grocery'],k=n)\n",
    "MaritalStatus= random.choices(['Single', 'Divorced', 'Married'],k=n)\n",
    "\n",
    "inf100 = pd.DataFrame({\n",
    "'Tenure': Tenure,\n",
    "'NumberOfDeviceRegistered':NumberOfDeviceRegistered,\n",
    "'SatisfactionScore': SatisfactionScore,\n",
    "'Complain': Complain,\n",
    "'DaySinceLastOrder': DaySinceLastOrder,\n",
    "'CashbackAmount': CashbackAmount,\n",
    "'PreferedOrderCat': PreferedOrderCat,\n",
    "'MaritalStatus':MaritalStatus\n",
    "})"
   ]
  },
  {
   "cell_type": "code",
   "execution_count": 31,
   "metadata": {},
   "outputs": [
    {
     "data": {
      "text/plain": [
       "0    490\n",
       "1     10\n",
       "Name: count, dtype: int64"
      ]
     },
     "execution_count": 31,
     "metadata": {},
     "output_type": "execute_result"
    }
   ],
   "source": [
    "y_inf_pred = pd.DataFrame(best_model.predict(inf100))\n",
    "y_inf_pred.value_counts()"
   ]
  }
 ],
 "metadata": {
  "kernelspec": {
   "display_name": "Python 3",
   "language": "python",
   "name": "python3"
  },
  "language_info": {
   "codemirror_mode": {
    "name": "ipython",
    "version": 3
   },
   "file_extension": ".py",
   "mimetype": "text/x-python",
   "name": "python",
   "nbconvert_exporter": "python",
   "pygments_lexer": "ipython3",
   "version": "3.10.2"
  }
 },
 "nbformat": 4,
 "nbformat_minor": 2
}
